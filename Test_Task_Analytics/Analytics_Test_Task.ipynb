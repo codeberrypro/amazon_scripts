{
  "nbformat": 4,
  "nbformat_minor": 0,
  "metadata": {
    "colab": {
      "provenance": []
    },
    "kernelspec": {
      "name": "python3",
      "display_name": "Python 3"
    },
    "language_info": {
      "name": "python"
    }
  },
  "cells": [
    {
      "cell_type": "markdown",
      "source": [
        "# Step 1:\n",
        "\n",
        "**This task includes such tables:**\n",
        "\n",
        "\n",
        "\n",
        "*   accounts - Facebook public profiles with some data on them\n",
        "*   posts - posts of these public profiles, you can use the profile_id column to connect to\n",
        "\n",
        "*   sources_for_followers - number of followers for these public profiles\n"
      ],
      "metadata": {
        "id": "jMZbJMHeDUij"
      }
    },
    {
      "cell_type": "code",
      "source": [
        "import sqlite3\n",
        "import pandas as pd\n",
        "import numpy as np\n",
        "import matplotlib.pyplot as plt"
      ],
      "metadata": {
        "id": "1G1z9Nzk53Ua"
      },
      "execution_count": null,
      "outputs": []
    },
    {
      "cell_type": "code",
      "source": [
        "con = sqlite3.connect('task.db')"
      ],
      "metadata": {
        "id": "K1zXddXK5wQ-"
      },
      "execution_count": null,
      "outputs": []
    },
    {
      "cell_type": "code",
      "source": [
        "# df = pd.read_csv('/content/post.csv', sep = ',')\n",
        "# df = pd.read_csv('/content/accounts.csv', sep = ',')\n",
        "# df = pd.read_csv('/content/sources_for_followers.csv', sep = ',')\n",
        "\n",
        "df = pd.read_csv('/content/sources_for_followers.csv', sep = ',')\n",
        "df.to_sql('sources_for_followers', con ,index=False, if_exists='replace')"
      ],
      "metadata": {
        "id": "xqbGe_MBR1HL"
      },
      "execution_count": null,
      "outputs": []
    },
    {
      "cell_type": "code",
      "source": [
        "def get_select(sql):\n",
        "  return pd.read_sql(sql, con)"
      ],
      "metadata": {
        "id": "qF6FgAMM_p01"
      },
      "execution_count": null,
      "outputs": []
    },
    {
      "cell_type": "markdown",
      "source": [
        "# Step 2:\n",
        "Merge the data\n",
        "Create queries to merge data in SQL and provide short explanations for your queries."
      ],
      "metadata": {
        "id": "5cccDO6CNMj1"
      }
    },
    {
      "cell_type": "code",
      "source": [
        "sql = '''\n",
        "SELECT\n",
        "    p.id as post_id,\n",
        "    p.created_time,\n",
        "    p.profile_id,\n",
        "    p.text_original,\n",
        "    p.comments_count,\n",
        "    a.username,\n",
        "    a.full_name,\n",
        "    a.description,\n",
        "    a.is_verified,\n",
        "    a.restricted,\n",
        "    a._id as account_id,\n",
        "    a._status,\n",
        "    a.id_alt,\n",
        "    s.followers_count\n",
        "FROM\n",
        "    posts p\n",
        "LEFT JOIN\n",
        "    accounts a ON p.profile_id = a.id\n",
        "LEFT JOIN\n",
        "    sources_for_followers s ON a._id = s._id\n",
        "\n",
        "ORDER BY created_time\t DESC\n",
        "\n",
        "'''\n",
        "\n",
        "get_select(sql)\n"
      ],
      "metadata": {
        "colab": {
          "base_uri": "https://localhost:8080/",
          "height": 1000
        },
        "id": "uFAuk8oc_q5B",
        "outputId": "32c73087-edf0-4275-d540-27a4749848a7"
      },
      "execution_count": null,
      "outputs": [
        {
          "output_type": "execute_result",
          "data": {
            "text/plain": [
              "               post_id            created_time       profile_id  \\\n",
              "0     6108326612553849  2023-04-24 14:34:06+00  100039658642469   \n",
              "1     6108302785889565  2023-04-24 14:24:58+00  100039658642469   \n",
              "2      610830136922304  2023-04-24 14:24:27+00  100039658642469   \n",
              "3     6108299655889878  2023-04-24 14:23:44+00  100039658642469   \n",
              "4     6108279592558551  2023-04-24 14:16:15+00  100039658642469   \n",
              "...                ...                     ...              ...   \n",
              "1016   883897752632522  2022-12-13 17:09:00+00  100049129852371   \n",
              "1017   676364313929971  2022-12-09 09:31:27+00  100049129852371   \n",
              "1018   839969647150894  2022-12-01 19:34:35+00  233946916972658   \n",
              "1019   718852639572227  2022-12-01 16:01:48+00  100049129852371   \n",
              "1020  2275615322646696  2022-12-01 11:56:58+00     182549563410   \n",
              "\n",
              "                                          text_original  comments_count  \\\n",
              "0     **Der Bumerang trifft die Richtigen** 3 Jahre ...               0   \n",
              "1     IS-Schlächter planen neue Anschläge: Unsere Ki...               0   \n",
              "2     Nach Corona-Impfung erblindet: „Ich verklage B...               0   \n",
              "3     „Grüne Vetternwirtschaft muss enden!“ „Liebe G...               0   \n",
              "4     Mal sehr gut erklärt, wie wir betrogen werden....               0   \n",
              "...                                                 ...             ...   \n",
              "1016  نصف النهائي.. ميسي يقود \"راقصي التانغو\" في موا...              33   \n",
              "1017  قمة الاتحاد الاقتصادي الأوراسي بمشاركة الرئيس ...              80   \n",
              "1018  Ezúttal Mráz Ágoston Sámuel, a Nézőpont Intéze...               5   \n",
              "1019  لقاء خاص مع نائب وزير الخارجية الرسي سيرغي ريا...              46   \n",
              "1020  Пламен Русев собственик на строителната компан...               0   \n",
              "\n",
              "                                   username  \\\n",
              "0                               wochenblick   \n",
              "1                               wochenblick   \n",
              "2                               wochenblick   \n",
              "3                               wochenblick   \n",
              "4                               wochenblick   \n",
              "...                                     ...   \n",
              "1016  Prüfe-alles-glaube-wenig-denke-selbst   \n",
              "1017  Prüfe-alles-glaube-wenig-denke-selbst   \n",
              "1018                           friedentotal   \n",
              "1019  Prüfe-alles-glaube-wenig-denke-selbst   \n",
              "1020                                lentaru   \n",
              "\n",
              "                                     full_name  \\\n",
              "0                                  Wochenblick   \n",
              "1                                  Wochenblick   \n",
              "2                                  Wochenblick   \n",
              "3                                  Wochenblick   \n",
              "4                                  Wochenblick   \n",
              "...                                        ...   \n",
              "1016  Prüfe alles, glaube wenig, denke selbst.   \n",
              "1017  Prüfe alles, glaube wenig, denke selbst.   \n",
              "1018                             Frieden Total   \n",
              "1019  Prüfe alles, glaube wenig, denke selbst.   \n",
              "1020                                  Lenta.Ru   \n",
              "\n",
              "                                            description  is_verified  \\\n",
              "0     Die neue Zeitung aus Oberösterreich\\n\\nDie Red...          0.0   \n",
              "1     Die neue Zeitung aus Oberösterreich\\n\\nDie Red...          0.0   \n",
              "2     Die neue Zeitung aus Oberösterreich\\n\\nDie Red...          0.0   \n",
              "3     Die neue Zeitung aus Oberösterreich\\n\\nDie Red...          0.0   \n",
              "4     Die neue Zeitung aus Oberösterreich\\n\\nDie Red...          0.0   \n",
              "...                                                 ...          ...   \n",
              "1016  🙂 https://t.me/pruefealles & 🎬 https://rumble....          0.0   \n",
              "1017  🙂 https://t.me/pruefealles & 🎬 https://rumble....          0.0   \n",
              "1018  Ab Januar 2017  bei Facebook, Instagram & YouT...          0.0   \n",
              "1019  🙂 https://t.me/pruefealles & 🎬 https://rumble....          0.0   \n",
              "1020  Официальная страница издания «Лента.ру». Доста...          1.0   \n",
              "\n",
              "     restricted  account_id     _status id_alt  followers_count  \n",
              "0          None          12  downloaded   None            77000  \n",
              "1          None          12  downloaded   None            77000  \n",
              "2          None          12  downloaded   None            77000  \n",
              "3          None          12  downloaded   None            77000  \n",
              "4          None          12  downloaded   None            77000  \n",
              "...         ...         ...         ...    ...              ...  \n",
              "1016       None           6  downloaded   None            74000  \n",
              "1017       None           6  downloaded   None            74000  \n",
              "1018       None         107  downloaded   None            62416  \n",
              "1019       None           6  downloaded   None            74000  \n",
              "1020       None         374  downloaded   None           834183  \n",
              "\n",
              "[1021 rows x 14 columns]"
            ],
            "text/html": [
              "\n",
              "  <div id=\"df-a3d57d53-0dac-4564-b680-46ef0e85b3e0\" class=\"colab-df-container\">\n",
              "    <div>\n",
              "<style scoped>\n",
              "    .dataframe tbody tr th:only-of-type {\n",
              "        vertical-align: middle;\n",
              "    }\n",
              "\n",
              "    .dataframe tbody tr th {\n",
              "        vertical-align: top;\n",
              "    }\n",
              "\n",
              "    .dataframe thead th {\n",
              "        text-align: right;\n",
              "    }\n",
              "</style>\n",
              "<table border=\"1\" class=\"dataframe\">\n",
              "  <thead>\n",
              "    <tr style=\"text-align: right;\">\n",
              "      <th></th>\n",
              "      <th>post_id</th>\n",
              "      <th>created_time</th>\n",
              "      <th>profile_id</th>\n",
              "      <th>text_original</th>\n",
              "      <th>comments_count</th>\n",
              "      <th>username</th>\n",
              "      <th>full_name</th>\n",
              "      <th>description</th>\n",
              "      <th>is_verified</th>\n",
              "      <th>restricted</th>\n",
              "      <th>account_id</th>\n",
              "      <th>_status</th>\n",
              "      <th>id_alt</th>\n",
              "      <th>followers_count</th>\n",
              "    </tr>\n",
              "  </thead>\n",
              "  <tbody>\n",
              "    <tr>\n",
              "      <th>0</th>\n",
              "      <td>6108326612553849</td>\n",
              "      <td>2023-04-24 14:34:06+00</td>\n",
              "      <td>100039658642469</td>\n",
              "      <td>**Der Bumerang trifft die Richtigen** 3 Jahre ...</td>\n",
              "      <td>0</td>\n",
              "      <td>wochenblick</td>\n",
              "      <td>Wochenblick</td>\n",
              "      <td>Die neue Zeitung aus Oberösterreich\\n\\nDie Red...</td>\n",
              "      <td>0.0</td>\n",
              "      <td>None</td>\n",
              "      <td>12</td>\n",
              "      <td>downloaded</td>\n",
              "      <td>None</td>\n",
              "      <td>77000</td>\n",
              "    </tr>\n",
              "    <tr>\n",
              "      <th>1</th>\n",
              "      <td>6108302785889565</td>\n",
              "      <td>2023-04-24 14:24:58+00</td>\n",
              "      <td>100039658642469</td>\n",
              "      <td>IS-Schlächter planen neue Anschläge: Unsere Ki...</td>\n",
              "      <td>0</td>\n",
              "      <td>wochenblick</td>\n",
              "      <td>Wochenblick</td>\n",
              "      <td>Die neue Zeitung aus Oberösterreich\\n\\nDie Red...</td>\n",
              "      <td>0.0</td>\n",
              "      <td>None</td>\n",
              "      <td>12</td>\n",
              "      <td>downloaded</td>\n",
              "      <td>None</td>\n",
              "      <td>77000</td>\n",
              "    </tr>\n",
              "    <tr>\n",
              "      <th>2</th>\n",
              "      <td>610830136922304</td>\n",
              "      <td>2023-04-24 14:24:27+00</td>\n",
              "      <td>100039658642469</td>\n",
              "      <td>Nach Corona-Impfung erblindet: „Ich verklage B...</td>\n",
              "      <td>0</td>\n",
              "      <td>wochenblick</td>\n",
              "      <td>Wochenblick</td>\n",
              "      <td>Die neue Zeitung aus Oberösterreich\\n\\nDie Red...</td>\n",
              "      <td>0.0</td>\n",
              "      <td>None</td>\n",
              "      <td>12</td>\n",
              "      <td>downloaded</td>\n",
              "      <td>None</td>\n",
              "      <td>77000</td>\n",
              "    </tr>\n",
              "    <tr>\n",
              "      <th>3</th>\n",
              "      <td>6108299655889878</td>\n",
              "      <td>2023-04-24 14:23:44+00</td>\n",
              "      <td>100039658642469</td>\n",
              "      <td>„Grüne Vetternwirtschaft muss enden!“ „Liebe G...</td>\n",
              "      <td>0</td>\n",
              "      <td>wochenblick</td>\n",
              "      <td>Wochenblick</td>\n",
              "      <td>Die neue Zeitung aus Oberösterreich\\n\\nDie Red...</td>\n",
              "      <td>0.0</td>\n",
              "      <td>None</td>\n",
              "      <td>12</td>\n",
              "      <td>downloaded</td>\n",
              "      <td>None</td>\n",
              "      <td>77000</td>\n",
              "    </tr>\n",
              "    <tr>\n",
              "      <th>4</th>\n",
              "      <td>6108279592558551</td>\n",
              "      <td>2023-04-24 14:16:15+00</td>\n",
              "      <td>100039658642469</td>\n",
              "      <td>Mal sehr gut erklärt, wie wir betrogen werden....</td>\n",
              "      <td>0</td>\n",
              "      <td>wochenblick</td>\n",
              "      <td>Wochenblick</td>\n",
              "      <td>Die neue Zeitung aus Oberösterreich\\n\\nDie Red...</td>\n",
              "      <td>0.0</td>\n",
              "      <td>None</td>\n",
              "      <td>12</td>\n",
              "      <td>downloaded</td>\n",
              "      <td>None</td>\n",
              "      <td>77000</td>\n",
              "    </tr>\n",
              "    <tr>\n",
              "      <th>...</th>\n",
              "      <td>...</td>\n",
              "      <td>...</td>\n",
              "      <td>...</td>\n",
              "      <td>...</td>\n",
              "      <td>...</td>\n",
              "      <td>...</td>\n",
              "      <td>...</td>\n",
              "      <td>...</td>\n",
              "      <td>...</td>\n",
              "      <td>...</td>\n",
              "      <td>...</td>\n",
              "      <td>...</td>\n",
              "      <td>...</td>\n",
              "      <td>...</td>\n",
              "    </tr>\n",
              "    <tr>\n",
              "      <th>1016</th>\n",
              "      <td>883897752632522</td>\n",
              "      <td>2022-12-13 17:09:00+00</td>\n",
              "      <td>100049129852371</td>\n",
              "      <td>نصف النهائي.. ميسي يقود \"راقصي التانغو\" في موا...</td>\n",
              "      <td>33</td>\n",
              "      <td>Prüfe-alles-glaube-wenig-denke-selbst</td>\n",
              "      <td>Prüfe alles, glaube wenig, denke selbst.</td>\n",
              "      <td>🙂 https://t.me/pruefealles &amp; 🎬 https://rumble....</td>\n",
              "      <td>0.0</td>\n",
              "      <td>None</td>\n",
              "      <td>6</td>\n",
              "      <td>downloaded</td>\n",
              "      <td>None</td>\n",
              "      <td>74000</td>\n",
              "    </tr>\n",
              "    <tr>\n",
              "      <th>1017</th>\n",
              "      <td>676364313929971</td>\n",
              "      <td>2022-12-09 09:31:27+00</td>\n",
              "      <td>100049129852371</td>\n",
              "      <td>قمة الاتحاد الاقتصادي الأوراسي بمشاركة الرئيس ...</td>\n",
              "      <td>80</td>\n",
              "      <td>Prüfe-alles-glaube-wenig-denke-selbst</td>\n",
              "      <td>Prüfe alles, glaube wenig, denke selbst.</td>\n",
              "      <td>🙂 https://t.me/pruefealles &amp; 🎬 https://rumble....</td>\n",
              "      <td>0.0</td>\n",
              "      <td>None</td>\n",
              "      <td>6</td>\n",
              "      <td>downloaded</td>\n",
              "      <td>None</td>\n",
              "      <td>74000</td>\n",
              "    </tr>\n",
              "    <tr>\n",
              "      <th>1018</th>\n",
              "      <td>839969647150894</td>\n",
              "      <td>2022-12-01 19:34:35+00</td>\n",
              "      <td>233946916972658</td>\n",
              "      <td>Ezúttal Mráz Ágoston Sámuel, a Nézőpont Intéze...</td>\n",
              "      <td>5</td>\n",
              "      <td>friedentotal</td>\n",
              "      <td>Frieden Total</td>\n",
              "      <td>Ab Januar 2017  bei Facebook, Instagram &amp; YouT...</td>\n",
              "      <td>0.0</td>\n",
              "      <td>None</td>\n",
              "      <td>107</td>\n",
              "      <td>downloaded</td>\n",
              "      <td>None</td>\n",
              "      <td>62416</td>\n",
              "    </tr>\n",
              "    <tr>\n",
              "      <th>1019</th>\n",
              "      <td>718852639572227</td>\n",
              "      <td>2022-12-01 16:01:48+00</td>\n",
              "      <td>100049129852371</td>\n",
              "      <td>لقاء خاص مع نائب وزير الخارجية الرسي سيرغي ريا...</td>\n",
              "      <td>46</td>\n",
              "      <td>Prüfe-alles-glaube-wenig-denke-selbst</td>\n",
              "      <td>Prüfe alles, glaube wenig, denke selbst.</td>\n",
              "      <td>🙂 https://t.me/pruefealles &amp; 🎬 https://rumble....</td>\n",
              "      <td>0.0</td>\n",
              "      <td>None</td>\n",
              "      <td>6</td>\n",
              "      <td>downloaded</td>\n",
              "      <td>None</td>\n",
              "      <td>74000</td>\n",
              "    </tr>\n",
              "    <tr>\n",
              "      <th>1020</th>\n",
              "      <td>2275615322646696</td>\n",
              "      <td>2022-12-01 11:56:58+00</td>\n",
              "      <td>182549563410</td>\n",
              "      <td>Пламен Русев собственик на строителната компан...</td>\n",
              "      <td>0</td>\n",
              "      <td>lentaru</td>\n",
              "      <td>Lenta.Ru</td>\n",
              "      <td>Официальная страница издания «Лента.ру». Доста...</td>\n",
              "      <td>1.0</td>\n",
              "      <td>None</td>\n",
              "      <td>374</td>\n",
              "      <td>downloaded</td>\n",
              "      <td>None</td>\n",
              "      <td>834183</td>\n",
              "    </tr>\n",
              "  </tbody>\n",
              "</table>\n",
              "<p>1021 rows × 14 columns</p>\n",
              "</div>\n",
              "    <div class=\"colab-df-buttons\">\n",
              "\n",
              "  <div class=\"colab-df-container\">\n",
              "    <button class=\"colab-df-convert\" onclick=\"convertToInteractive('df-a3d57d53-0dac-4564-b680-46ef0e85b3e0')\"\n",
              "            title=\"Convert this dataframe to an interactive table.\"\n",
              "            style=\"display:none;\">\n",
              "\n",
              "  <svg xmlns=\"http://www.w3.org/2000/svg\" height=\"24px\" viewBox=\"0 -960 960 960\">\n",
              "    <path d=\"M120-120v-720h720v720H120Zm60-500h600v-160H180v160Zm220 220h160v-160H400v160Zm0 220h160v-160H400v160ZM180-400h160v-160H180v160Zm440 0h160v-160H620v160ZM180-180h160v-160H180v160Zm440 0h160v-160H620v160Z\"/>\n",
              "  </svg>\n",
              "    </button>\n",
              "\n",
              "  <style>\n",
              "    .colab-df-container {\n",
              "      display:flex;\n",
              "      gap: 12px;\n",
              "    }\n",
              "\n",
              "    .colab-df-convert {\n",
              "      background-color: #E8F0FE;\n",
              "      border: none;\n",
              "      border-radius: 50%;\n",
              "      cursor: pointer;\n",
              "      display: none;\n",
              "      fill: #1967D2;\n",
              "      height: 32px;\n",
              "      padding: 0 0 0 0;\n",
              "      width: 32px;\n",
              "    }\n",
              "\n",
              "    .colab-df-convert:hover {\n",
              "      background-color: #E2EBFA;\n",
              "      box-shadow: 0px 1px 2px rgba(60, 64, 67, 0.3), 0px 1px 3px 1px rgba(60, 64, 67, 0.15);\n",
              "      fill: #174EA6;\n",
              "    }\n",
              "\n",
              "    .colab-df-buttons div {\n",
              "      margin-bottom: 4px;\n",
              "    }\n",
              "\n",
              "    [theme=dark] .colab-df-convert {\n",
              "      background-color: #3B4455;\n",
              "      fill: #D2E3FC;\n",
              "    }\n",
              "\n",
              "    [theme=dark] .colab-df-convert:hover {\n",
              "      background-color: #434B5C;\n",
              "      box-shadow: 0px 1px 3px 1px rgba(0, 0, 0, 0.15);\n",
              "      filter: drop-shadow(0px 1px 2px rgba(0, 0, 0, 0.3));\n",
              "      fill: #FFFFFF;\n",
              "    }\n",
              "  </style>\n",
              "\n",
              "    <script>\n",
              "      const buttonEl =\n",
              "        document.querySelector('#df-a3d57d53-0dac-4564-b680-46ef0e85b3e0 button.colab-df-convert');\n",
              "      buttonEl.style.display =\n",
              "        google.colab.kernel.accessAllowed ? 'block' : 'none';\n",
              "\n",
              "      async function convertToInteractive(key) {\n",
              "        const element = document.querySelector('#df-a3d57d53-0dac-4564-b680-46ef0e85b3e0');\n",
              "        const dataTable =\n",
              "          await google.colab.kernel.invokeFunction('convertToInteractive',\n",
              "                                                    [key], {});\n",
              "        if (!dataTable) return;\n",
              "\n",
              "        const docLinkHtml = 'Like what you see? Visit the ' +\n",
              "          '<a target=\"_blank\" href=https://colab.research.google.com/notebooks/data_table.ipynb>data table notebook</a>'\n",
              "          + ' to learn more about interactive tables.';\n",
              "        element.innerHTML = '';\n",
              "        dataTable['output_type'] = 'display_data';\n",
              "        await google.colab.output.renderOutput(dataTable, element);\n",
              "        const docLink = document.createElement('div');\n",
              "        docLink.innerHTML = docLinkHtml;\n",
              "        element.appendChild(docLink);\n",
              "      }\n",
              "    </script>\n",
              "  </div>\n",
              "\n",
              "\n",
              "<div id=\"df-947f7a26-1b62-4ae7-8a40-1d74dfde1967\">\n",
              "  <button class=\"colab-df-quickchart\" onclick=\"quickchart('df-947f7a26-1b62-4ae7-8a40-1d74dfde1967')\"\n",
              "            title=\"Suggest charts.\"\n",
              "            style=\"display:none;\">\n",
              "\n",
              "<svg xmlns=\"http://www.w3.org/2000/svg\" height=\"24px\"viewBox=\"0 0 24 24\"\n",
              "     width=\"24px\">\n",
              "    <g>\n",
              "        <path d=\"M19 3H5c-1.1 0-2 .9-2 2v14c0 1.1.9 2 2 2h14c1.1 0 2-.9 2-2V5c0-1.1-.9-2-2-2zM9 17H7v-7h2v7zm4 0h-2V7h2v10zm4 0h-2v-4h2v4z\"/>\n",
              "    </g>\n",
              "</svg>\n",
              "  </button>\n",
              "\n",
              "<style>\n",
              "  .colab-df-quickchart {\n",
              "      --bg-color: #E8F0FE;\n",
              "      --fill-color: #1967D2;\n",
              "      --hover-bg-color: #E2EBFA;\n",
              "      --hover-fill-color: #174EA6;\n",
              "      --disabled-fill-color: #AAA;\n",
              "      --disabled-bg-color: #DDD;\n",
              "  }\n",
              "\n",
              "  [theme=dark] .colab-df-quickchart {\n",
              "      --bg-color: #3B4455;\n",
              "      --fill-color: #D2E3FC;\n",
              "      --hover-bg-color: #434B5C;\n",
              "      --hover-fill-color: #FFFFFF;\n",
              "      --disabled-bg-color: #3B4455;\n",
              "      --disabled-fill-color: #666;\n",
              "  }\n",
              "\n",
              "  .colab-df-quickchart {\n",
              "    background-color: var(--bg-color);\n",
              "    border: none;\n",
              "    border-radius: 50%;\n",
              "    cursor: pointer;\n",
              "    display: none;\n",
              "    fill: var(--fill-color);\n",
              "    height: 32px;\n",
              "    padding: 0;\n",
              "    width: 32px;\n",
              "  }\n",
              "\n",
              "  .colab-df-quickchart:hover {\n",
              "    background-color: var(--hover-bg-color);\n",
              "    box-shadow: 0 1px 2px rgba(60, 64, 67, 0.3), 0 1px 3px 1px rgba(60, 64, 67, 0.15);\n",
              "    fill: var(--button-hover-fill-color);\n",
              "  }\n",
              "\n",
              "  .colab-df-quickchart-complete:disabled,\n",
              "  .colab-df-quickchart-complete:disabled:hover {\n",
              "    background-color: var(--disabled-bg-color);\n",
              "    fill: var(--disabled-fill-color);\n",
              "    box-shadow: none;\n",
              "  }\n",
              "\n",
              "  .colab-df-spinner {\n",
              "    border: 2px solid var(--fill-color);\n",
              "    border-color: transparent;\n",
              "    border-bottom-color: var(--fill-color);\n",
              "    animation:\n",
              "      spin 1s steps(1) infinite;\n",
              "  }\n",
              "\n",
              "  @keyframes spin {\n",
              "    0% {\n",
              "      border-color: transparent;\n",
              "      border-bottom-color: var(--fill-color);\n",
              "      border-left-color: var(--fill-color);\n",
              "    }\n",
              "    20% {\n",
              "      border-color: transparent;\n",
              "      border-left-color: var(--fill-color);\n",
              "      border-top-color: var(--fill-color);\n",
              "    }\n",
              "    30% {\n",
              "      border-color: transparent;\n",
              "      border-left-color: var(--fill-color);\n",
              "      border-top-color: var(--fill-color);\n",
              "      border-right-color: var(--fill-color);\n",
              "    }\n",
              "    40% {\n",
              "      border-color: transparent;\n",
              "      border-right-color: var(--fill-color);\n",
              "      border-top-color: var(--fill-color);\n",
              "    }\n",
              "    60% {\n",
              "      border-color: transparent;\n",
              "      border-right-color: var(--fill-color);\n",
              "    }\n",
              "    80% {\n",
              "      border-color: transparent;\n",
              "      border-right-color: var(--fill-color);\n",
              "      border-bottom-color: var(--fill-color);\n",
              "    }\n",
              "    90% {\n",
              "      border-color: transparent;\n",
              "      border-bottom-color: var(--fill-color);\n",
              "    }\n",
              "  }\n",
              "</style>\n",
              "\n",
              "  <script>\n",
              "    async function quickchart(key) {\n",
              "      const quickchartButtonEl =\n",
              "        document.querySelector('#' + key + ' button');\n",
              "      quickchartButtonEl.disabled = true;  // To prevent multiple clicks.\n",
              "      quickchartButtonEl.classList.add('colab-df-spinner');\n",
              "      try {\n",
              "        const charts = await google.colab.kernel.invokeFunction(\n",
              "            'suggestCharts', [key], {});\n",
              "      } catch (error) {\n",
              "        console.error('Error during call to suggestCharts:', error);\n",
              "      }\n",
              "      quickchartButtonEl.classList.remove('colab-df-spinner');\n",
              "      quickchartButtonEl.classList.add('colab-df-quickchart-complete');\n",
              "    }\n",
              "    (() => {\n",
              "      let quickchartButtonEl =\n",
              "        document.querySelector('#df-947f7a26-1b62-4ae7-8a40-1d74dfde1967 button');\n",
              "      quickchartButtonEl.style.display =\n",
              "        google.colab.kernel.accessAllowed ? 'block' : 'none';\n",
              "    })();\n",
              "  </script>\n",
              "</div>\n",
              "    </div>\n",
              "  </div>\n"
            ]
          },
          "metadata": {},
          "execution_count": 14
        }
      ]
    },
    {
      "cell_type": "markdown",
      "source": [
        "# Step 3:\n",
        "Exploratory data analysis"
      ],
      "metadata": {
        "id": "oVXeMUzqeWmw"
      }
    },
    {
      "cell_type": "code",
      "source": [
        "df = get_select(sql)\n",
        "df.dtypes"
      ],
      "metadata": {
        "colab": {
          "base_uri": "https://localhost:8080/"
        },
        "id": "CReBIn7IeLyG",
        "outputId": "f725d820-79e5-4d22-c351-94c009b50d98"
      },
      "execution_count": null,
      "outputs": [
        {
          "output_type": "stream",
          "name": "stdout",
          "text": [
            "id                   int64\n",
            "created_time        object\n",
            "profile_id           int64\n",
            "text_original       object\n",
            "comments_count       int64\n",
            "username            object\n",
            "full_name           object\n",
            "description         object\n",
            "is_verified        float64\n",
            "restricted          object\n",
            "_id                  int64\n",
            "_status             object\n",
            "id_alt              object\n",
            "followers_count      int64\n",
            "dtype: object\n"
          ]
        }
      ]
    },
    {
      "cell_type": "markdown",
      "source": [
        "Data Information"
      ],
      "metadata": {
        "id": "AaSQpqrEe2VC"
      }
    },
    {
      "cell_type": "code",
      "source": [
        "df = get_select(sql)\n",
        "df.info()"
      ],
      "metadata": {
        "colab": {
          "base_uri": "https://localhost:8080/"
        },
        "id": "ocvHuE7dX7mf",
        "outputId": "bc433280-d581-4f82-eee5-d94f82cb830f"
      },
      "execution_count": null,
      "outputs": [
        {
          "output_type": "stream",
          "name": "stdout",
          "text": [
            "<class 'pandas.core.frame.DataFrame'>\n",
            "RangeIndex: 1021 entries, 0 to 1020\n",
            "Data columns (total 14 columns):\n",
            " #   Column           Non-Null Count  Dtype  \n",
            "---  ------           --------------  -----  \n",
            " 0   id               1021 non-null   int64  \n",
            " 1   created_time     1021 non-null   object \n",
            " 2   profile_id       1021 non-null   int64  \n",
            " 3   text_original    1021 non-null   object \n",
            " 4   comments_count   1021 non-null   int64  \n",
            " 5   username         943 non-null    object \n",
            " 6   full_name        1021 non-null   object \n",
            " 7   description      982 non-null    object \n",
            " 8   is_verified      904 non-null    float64\n",
            " 9   restricted       0 non-null      object \n",
            " 10  _id              1021 non-null   int64  \n",
            " 11  _status          1021 non-null   object \n",
            " 12  id_alt           0 non-null      object \n",
            " 13  followers_count  1021 non-null   int64  \n",
            "dtypes: float64(1), int64(5), object(8)\n",
            "memory usage: 111.8+ KB\n",
            "(1021, 14)\n"
          ]
        }
      ]
    },
    {
      "cell_type": "markdown",
      "source": [
        "Checking of empty results"
      ],
      "metadata": {
        "id": "tRp52Dw0VbX2"
      }
    },
    {
      "cell_type": "code",
      "source": [
        "df = get_select(sql)\n",
        "df.isnull().sum()"
      ],
      "metadata": {
        "colab": {
          "base_uri": "https://localhost:8080/"
        },
        "id": "yejW2AjlQ69y",
        "outputId": "9e3511f1-382f-400e-fee8-e554d17b9240"
      },
      "execution_count": null,
      "outputs": [
        {
          "output_type": "stream",
          "name": "stdout",
          "text": [
            "id                    0\n",
            "created_time          0\n",
            "profile_id            0\n",
            "text_original         0\n",
            "comments_count        0\n",
            "username             78\n",
            "full_name             0\n",
            "description          39\n",
            "is_verified         117\n",
            "restricted         1021\n",
            "_id                   0\n",
            "_status               0\n",
            "id_alt             1021\n",
            "followers_count       0\n",
            "dtype: int64\n"
          ]
        }
      ]
    },
    {
      "cell_type": "markdown",
      "source": [
        "Main statistical indicators"
      ],
      "metadata": {
        "id": "NWXDHVBoV9MN"
      }
    },
    {
      "cell_type": "code",
      "source": [
        "df = get_select(sql)\n",
        "df.describe()"
      ],
      "metadata": {
        "colab": {
          "base_uri": "https://localhost:8080/"
        },
        "id": "PFPm_gCLS8gp",
        "outputId": "3eaa4603-8504-4666-9173-e059ba888053"
      },
      "execution_count": null,
      "outputs": [
        {
          "output_type": "stream",
          "name": "stdout",
          "text": [
            "                 id    profile_id  comments_count  is_verified          _id  \\\n",
            "count  1.021000e+03  1.021000e+03      1021.00000   904.000000  1021.000000   \n",
            "mean   2.552574e+15  3.208149e+14        11.01763     0.309735   207.419197   \n",
            "std    2.839013e+15  4.575640e+14        33.81054     0.462640   183.519718   \n",
            "min    1.249306e+13  1.575861e+09         0.00000     0.000000     3.000000   \n",
            "25%    7.050698e+14  1.000512e+14         0.00000     0.000000    51.000000   \n",
            "50%    9.657605e+14  1.000646e+14         0.00000     0.000000   108.000000   \n",
            "75%    3.419608e+15  2.339469e+14         5.00000     1.000000   365.000000   \n",
            "max    1.016027e+16  1.492252e+15       447.00000     1.000000   603.000000   \n",
            "\n",
            "       followers_count  \n",
            "count      1021.000000  \n",
            "mean     142642.677767  \n",
            "std      205578.563569  \n",
            "min       22600.000000  \n",
            "25%       40000.000000  \n",
            "50%       63460.000000  \n",
            "75%      107436.000000  \n",
            "max      834183.000000  \n"
          ]
        }
      ]
    },
    {
      "cell_type": "markdown",
      "source": [
        "Posts creation dates."
      ],
      "metadata": {
        "id": "XAdalG2njCCu"
      }
    },
    {
      "cell_type": "code",
      "source": [
        "df = get_select(sql)\n",
        "df['created_time'] = pd.to_datetime(df['created_time'])\n",
        "\n",
        "# Extract the day of the month\n",
        "df['day'] = df['created_time'].dt.day\n",
        "\n",
        "# Extract the day of the week (0 - Monday, 6 - Sunday)\n",
        "df['weekday'] = df['created_time'].dt.weekday\n",
        "\n",
        "# Count events by day of the month\n",
        "daily_counts = df['day'].value_counts().sort_index()\n",
        "\n",
        "# Find the day of the month with the highest number of posts\n",
        "most_posts_day = daily_counts.idxmax()\n",
        "most_posts_count = daily_counts.max()\n",
        "\n",
        "# Count events by day of the week\n",
        "weekday_counts = df['weekday'].value_counts().sort_index()\n",
        "\n",
        "# Create plots\n",
        "plt.figure(figsize=(12, 6))\n",
        "\n",
        "plt.subplot(3, 1, 1)\n",
        "daily_counts.plot(kind='bar', title='Event Frequency by Day of the Month')\n",
        "plt.xlabel('Day of the Month')\n",
        "plt.text(most_posts_day - 1, most_posts_count, f'({most_posts_count} posts)', ha='left', va='top', color='red')\n",
        "\n",
        "plt.subplot(2, 1, 2)\n",
        "weekday_counts.plot(kind='bar', title='Event Frequency by Day of the Week')\n",
        "plt.xlabel('Day of the Week')\n",
        "\n",
        "plt.tight_layout()\n",
        "plt.show()"
      ],
      "metadata": {
        "colab": {
          "base_uri": "https://localhost:8080/",
          "height": 590
        },
        "id": "wNV2xJ4GmVQQ",
        "outputId": "d13e794d-f13f-4435-ed35-c6805f9708b6"
      },
      "execution_count": null,
      "outputs": [
        {
          "output_type": "stream",
          "name": "stderr",
          "text": [
            "<ipython-input-114-c14a78a0506e>:32: UserWarning: tight_layout not applied: number of rows in subplot specifications must be multiples of one another.\n",
            "  plt.tight_layout()\n"
          ]
        },
        {
          "output_type": "display_data",
          "data": {
            "text/plain": [
              "<Figure size 1200x600 with 2 Axes>"
            ],
            "image/png": "[encoded data removed]"
          },
          "metadata": {}
        }
      ]
    },
    {
      "cell_type": "markdown",
      "source": [
        "### Conclusions:\n",
        "- The data is not complete:\n",
        "      username 78\n",
        "      description 39\n",
        "      is_verified 117\n",
        "      restricted 1021\n",
        "      id_alt 1021\n",
        "- After analysis, I noticed that most posts were created on 2023-04-24\n",
        "- In general most posts are created on Saturday and Sunday\n",
        "\n"
      ],
      "metadata": {
        "id": "cCsW6oJZxNMS"
      }
    },
    {
      "cell_type": "markdown",
      "source": [
        "# Step 4:"
      ],
      "metadata": {
        "id": "wzlSxcTC4KtX"
      }
    },
    {
      "cell_type": "markdown",
      "source": [
        "Top 10 overperforming posts"
      ],
      "metadata": {
        "id": "1hZevLqgS9A0"
      }
    },
    {
      "cell_type": "code",
      "source": [
        "df = get_select(sql)\n",
        "\n",
        "\n",
        "top_posts = df.sort_values(by='comments_count', ascending=False)\n",
        "\n",
        "selected_columns = ['username', 'profile_id', 'comments_count']\n",
        "top_10_posts = top_posts[selected_columns]\n",
        "\n",
        "\n",
        "print(top_10_posts.head(10))"
      ],
      "metadata": {
        "colab": {
          "base_uri": "https://localhost:8080/"
        },
        "id": "ddIRjXkt4Q9H",
        "outputId": "b52ebc06-bce5-487a-816f-ebe1a37bfb24"
      },
      "execution_count": null,
      "outputs": [
        {
          "output_type": "stream",
          "name": "stdout",
          "text": [
            "                                   username       profile_id  comments_count\n",
            "939   Prüfe-alles-glaube-wenig-denke-selbst  100049129852371             447\n",
            "997   Prüfe-alles-glaube-wenig-denke-selbst  100049129852371             405\n",
            "110          Sergiu.Mihalcea.PaginaOficiala  100063622184348             341\n",
            "999                            unzensuriert  100069390481601             291\n",
            "852                            unzensuriert  100069390481601             190\n",
            "675                            unzensuriert  100069390481601             188\n",
            "996                            unzensuriert  100069390481601             186\n",
            "1006  Prüfe-alles-glaube-wenig-denke-selbst  100049129852371             173\n",
            "1007                           unzensuriert  100069390481601             156\n",
            "940                            unzensuriert  100069390481601             148\n"
          ]
        }
      ]
    },
    {
      "cell_type": "markdown",
      "source": [
        "Can you please analyse engagement on provided posts and provide short summary of your\n",
        "findings?\n",
        "\n",
        "\n",
        "\n",
        "* The \"total_engagement_count\" typically encompasses various forms of user interaction with content, such as likes, comments, shares, and so on. To calculate the total engagement count, we would require additional data. However, if we assert that the total engagement count is the result of (df['followers_count'] / df['comments_count']), then we can proceed with this assumption, although I'm not entirely certain about its accuracy. This issue may require further clarification.\n",
        "\n"
      ],
      "metadata": {
        "id": "kXJm9bU-W0Yu"
      }
    },
    {
      "cell_type": "code",
      "source": [
        "df = get_select(sql)\n",
        "\n",
        "df['total_engagement_count'] = df['followers_count'] / df['comments_count']\n",
        "grouped_data = df[['account_id', 'username', 'followers_count', 'comments_count', 'total_engagement_count']]\n",
        "\n",
        "sorted_grouped_data = grouped_data.sort_values(by='comments_count', ascending=False)\n",
        "top_10_sorted_data = sorted_grouped_data.head(10)\n",
        "\n",
        "print(top_10_sorted_data)"
      ],
      "metadata": {
        "colab": {
          "base_uri": "https://localhost:8080/"
        },
        "id": "FN4pXJaNP-eI",
        "outputId": "7abf7c07-d641-44a8-e116-9d32f2f40da8"
      },
      "execution_count": null,
      "outputs": [
        {
          "output_type": "stream",
          "name": "stdout",
          "text": [
            "      account_id                               username  followers_count  \\\n",
            "939            6  Prüfe-alles-glaube-wenig-denke-selbst            74000   \n",
            "997            6  Prüfe-alles-glaube-wenig-denke-selbst            74000   \n",
            "110          294         Sergiu.Mihalcea.PaginaOficiala           126000   \n",
            "999           13                           unzensuriert            58000   \n",
            "852           13                           unzensuriert            58000   \n",
            "675           13                           unzensuriert            58000   \n",
            "996           13                           unzensuriert            58000   \n",
            "1006           6  Prüfe-alles-glaube-wenig-denke-selbst            74000   \n",
            "1007          13                           unzensuriert            58000   \n",
            "940           13                           unzensuriert            58000   \n",
            "\n",
            "      comments_count  total_engagement_count  \n",
            "939              447              165.548098  \n",
            "997              405              182.716049  \n",
            "110              341              369.501466  \n",
            "999              291              199.312715  \n",
            "852              190              305.263158  \n",
            "675              188              308.510638  \n",
            "996              186              311.827957  \n",
            "1006             173              427.745665  \n",
            "1007             156              371.794872  \n",
            "940              148              391.891892  \n"
          ]
        }
      ]
    }
  ]
}