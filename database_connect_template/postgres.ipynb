{
  "nbformat": 4,
  "nbformat_minor": 0,
  "metadata": {
    "colab": {
      "provenance": []
    },
    "kernelspec": {
      "name": "python3",
      "display_name": "Python 3"
    },
    "language_info": {
      "name": "python"
    }
  },
  "cells": [
    {
      "cell_type": "code",
      "source": [
        "import pandas as pd\n",
        "import numpy as np\n",
        "from sqlalchemy import create_engine\n",
        "\n",
        "db_params = {\n",
        "    \"host\": \"********-0607459517c356f03164fc21e6c04491.cykew4xdl23x.eu-west-2.rds.amazonaws.com\",\n",
        "    \"database\": \"postg***\",\n",
        "    \"user\": \"dbmasteru***\",\n",
        "    \"password\": \"********\"\n",
        "}\n",
        "\n",
        "\n",
        "con = create_engine(\"postgresql+psycopg2://{}:{}@{}/{}\".format(db_params[\"user\"], db_params[\"password\"], db_params[\"host\"], db_params[\"database\"]))\n"
      ],
      "metadata": {
        "id": "4fybFXIz38OB"
      },
      "execution_count": 12,
      "outputs": []
    },
    {
      "cell_type": "code",
      "source": [
        "df = pd.read_csv('/content/table.csv', sep = ';')\n",
        "df.head"
      ],
      "metadata": {
        "colab": {
          "base_uri": "https://localhost:8080/"
        },
        "id": "c4NuUkVK5KKt",
        "outputId": "9405a292-4a88-4374-a8f8-fae591b2da97"
      },
      "execution_count": 13,
      "outputs": [
        {
          "output_type": "execute_result",
          "data": {
            "text/plain": [
              "<bound method NDFrame.head of                            application_id               first_created_at  \\\n",
              "0    4b6fd858-3c68-4ad6-91bf-d406d5b73da8  2023-06-21 20:37:44.912 +0200   \n",
              "1    d1335216-2c4e-4277-88d9-97bc6051d536  2023-06-22 12:00:39.453 +0200   \n",
              "2    95f6cdbc-324b-4242-a831-6c8950decfb9  2023-06-29 15:10:52.855 +0200   \n",
              "3    f37610ce-433f-47ab-b4c7-fde8264c1b44  2023-06-30 08:56:41.808 +0200   \n",
              "4    86c76e98-ec74-4044-b498-eb9acfb844c3  2023-06-30 20:29:26.413 +0200   \n",
              "..                                    ...                            ...   \n",
              "107  8f9e7c1a-d2b3-4804-b1a1-662c7eef84db  2023-09-05 17:37:53.041 +0200   \n",
              "108  64cecc17-63d0-43c7-9d0b-f5a19b12294c  2023-09-05 17:37:53.064 +0200   \n",
              "109  5ef67aeb-69cd-4f6f-90f1-f91963f80f2a  2023-09-05 17:37:53.077 +0200   \n",
              "110  0949761e-69ba-4224-953b-c0e6df9776e4  2023-09-06 15:48:58.640 +0200   \n",
              "111  127fba51-54dd-4821-85e5-111c3b6db9f0  2023-09-06 16:06:11.023 +0200   \n",
              "\n",
              "                 second_created_at  \n",
              "0    2023-06-21 20:37:44.913 +0200  \n",
              "1    2023-06-22 12:00:42.063 +0200  \n",
              "2    2023-06-29 16:25:18.635 +0200  \n",
              "3    2023-06-30 08:56:41.809 +0200  \n",
              "4    2023-06-30 20:29:26.413 +0200  \n",
              "..                             ...  \n",
              "107  2023-09-05 17:37:53.042 +0200  \n",
              "108  2023-09-05 17:37:53.065 +0200  \n",
              "109  2023-09-05 17:37:53.078 +0200  \n",
              "110  2023-09-06 15:49:16.671 +0200  \n",
              "111  2023-09-06 19:33:46.027 +0200  \n",
              "\n",
              "[112 rows x 3 columns]>"
            ]
          },
          "metadata": {},
          "execution_count": 13
        }
      ]
    },
    {
      "cell_type": "code",
      "source": [
        "def get_select(sql):\n",
        "  return pd.read_sql(sql, con)"
      ],
      "metadata": {
        "id": "02jMKrvF-wNy"
      },
      "execution_count": 14,
      "outputs": []
    },
    {
      "cell_type": "code",
      "source": [
        "df.to_sql('application_history', con , index=False, if_exists='replace')"
      ],
      "metadata": {
        "colab": {
          "base_uri": "https://localhost:8080/"
        },
        "id": "ZbXqY_sI-eqU",
        "outputId": "1e514393-90e5-42bb-c57e-a12e7555810a"
      },
      "execution_count": 16,
      "outputs": [
        {
          "output_type": "execute_result",
          "data": {
            "text/plain": [
              "112"
            ]
          },
          "metadata": {},
          "execution_count": 16
        }
      ]
    }
  ]
}